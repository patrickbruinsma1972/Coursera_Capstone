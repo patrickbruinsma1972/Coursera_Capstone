{
 "cells": [
  {
   "cell_type": "markdown",
   "metadata": {
    "collapsed": true
   },
   "source": [
    "# Living green is good for you; Which city-state is the best for you?"
   ]
  },
  {
   "cell_type": "markdown",
   "metadata": {},
   "source": [
    "The more we surround ourselves with greenery, the longer we live. Various studies have conclusively established that the presence of trees and plants is not only good for us - no, they save our lives. \n",
    "\n",
    "So, the goal of this capstone project is to compare the accessibility to **Urban Green Space** (UGS) for **Singapore** (SG) and **Hong Kong** (HK) citizens.\n",
    "\n",
    "### **Capstone project:** Determine how Hong Kong (HK) and Singapore (SG) compare to each other?\n",
    "\n",
    "#### Background:\n",
    "\n",
    "*In 2014 the United Nations (UN) published a report about the world’s urbanization. The UN stated that today 54% of the world’s population is living in urban areas and that this is only increasing. With Singapore and Hong Kong already ranking 3rd and 4th as the most densely populated countries in the world, these are two well-known examples of city-states.* \n",
    "\n",
    "*Managing urban areas has become one of the most critical development challenges of the 21st century, and the quality and viability of cities largely depend on the accessibility to Urban Green Space (USG).* \n",
    "\n",
    "*Urban green spaces (USG) provide enormous benefits to the neighbourhood and community by improving health, social well-being and enhancing the enjoyment of the local environment.* \n",
    "\n",
    "*On the other hand, creating green spaces is considered a challenge. Particularly in city-states such as Singapore and Hong Kong, where there is pressure for space, resources and development.* \n",
    "\n",
    "*To achieve the social and psychological benefits, public green spaces should be at the centre of a neighbourhood and not more than five-minutes-walk for most residents, public buildings or shops.*\n",
    "\n",
    "**Questions to answer:**\n",
    "1. Do HK and SG meet the World Health Organization (WHO) target of Green Area per capita (sqm per person) > 9 m2? \n",
    "2. Is there a neighbourhood in either city that has the ideal of 50 sqm UGS per person? \n",
    "3. What city and what neighbourhoods provide the best position of UGS of max 5m (=400m) walk?\n",
    "4. What city and what neighbourhoods provide the best proximity to public transport, facilities and services?\n",
    "5. Foursquare ranking (happiness indicator)?\n",
    "\n",
    "**Data Sources to use:**\n",
    "* [HK census data](https://geodata.gov.hk/gs/view-dataset?uuid=7873fc05-64fc-45f3-8722-a4a59c44ac44&sidx=0)\n",
    "* [HK GeoJSON](https://geodata.gov.hk/gs/view-dataset;jsessionid=E065C1FC35490F3A9986C1DF617E1A22?uuid=ddd39cbe-5f10-4dbd-96e7-7a4883e37388&l=en&sidx=0)\n",
    "* [SG census data](https://www.singstat.gov.sg/find-data/search-by-theme/population/geographic-distribution/latest-data)\n",
    "* [SG GeoJSON](https://data.gov.sg/dataset/electoral-boundary-2011?resource_id=db8c03ba-983e-4a57-8976-b72b44fe037a)"
   ]
  },
  {
   "cell_type": "code",
   "execution_count": 1,
   "metadata": {},
   "outputs": [],
   "source": [
    "import requests\n",
    "import lxml.html as lh\n",
    "import pandas as pd\n",
    "import numpy as np"
   ]
  },
  {
   "cell_type": "code",
   "execution_count": 2,
   "metadata": {},
   "outputs": [
    {
     "name": "stdout",
     "output_type": "stream",
     "text": [
      "Let's get going!\n"
     ]
    }
   ],
   "source": [
    "print(\"Let's get going!\")"
   ]
  }
 ],
 "metadata": {
  "kernelspec": {
   "display_name": "Python 3.7",
   "language": "python",
   "name": "python3"
  },
  "language_info": {
   "codemirror_mode": {
    "name": "ipython",
    "version": 3
   },
   "file_extension": ".py",
   "mimetype": "text/x-python",
   "name": "python",
   "nbconvert_exporter": "python",
   "pygments_lexer": "ipython3",
   "version": "3.7.9"
  }
 },
 "nbformat": 4,
 "nbformat_minor": 1
}
