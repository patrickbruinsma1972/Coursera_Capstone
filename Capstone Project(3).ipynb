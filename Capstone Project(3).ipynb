{
 "cells": [
  {
   "cell_type": "markdown",
   "metadata": {
    "collapsed": true
   },
   "source": [
    "# Living green is good for you; How much greener is Singapore compared to Hong Kong?"
   ]
  },
  {
   "cell_type": "markdown",
   "metadata": {},
   "source": [
    "### **Capstone project:** Determine how Hong Kong (HK) and Singapore (SG) compare to each other?\n",
    "\n",
    ">For years, Singapore has called itself the Garden City and wants to be the greenest city in the world by preserving greenery and strengthening the energy transition.\n",
    ">Judging by the developments in the aftermath of the Covid-19 pandemic, the race between **`Hong Kong`** and **`Singapore`** to be the centre for sustainable investing in Asia has intensified. <br /> <br />\n",
    ">In the summer of 2020, regulators in both financial centres launched initiatives to strengthen sustainable investing guidelines. \n",
    ">And while the financial sectors in both cities are still absorbing the effects of the pandemic, Singapore wants to start quickly reaching out to today's discerning investors and continue to emphasize that greening in Singapore is taking place on all fronts. <br /> <br />\n",
    ">Effective marketing campaigns need fact-based data. For that insight is required into the liveability of Singapore compared to Hong Kong. In short, it takes factual substantiation to claim that investors are better off in Singapore. Singapore wants to be able to emphasize that **Urban Green Space** (USG) in the city symbolizes a sustainable investment. \n",
    "\n",
    "### Clients c.q. Report End-users: \n",
    ">**Singapore International Chamber of Commerce** (SICC) and **Singapore Tourism Board** (STB)\n",
    "\n",
    "\n",
    "### Background on Urban Green Space (USG):\n",
    ">The more we surround ourselves with greenery, the longer we live. Various studies have conclusively established that the presence of trees and plants is not only good for us - no, they save our lives. So, the goal of this capstone project is to compare the accessibility to **Urban Green Space** (UGS) for **Singapore** (SG) and **Hong Kong** (HK) citizens.<br /> <br />\n",
    ">In 2014 the United Nations (UN) published a report about the world’s urbanization. The UN stated that today 54% of the world’s population is living in urban areas and that this is only increasing. With Singapore and Hong Kong already ranking 3rd and 4th as the most densely populated countries in the world, these are two well-known examples of city-states.\n",
    ">Managing urban areas has become one of the most critical development challenges of the 21st century, and the quality and viability of cities largely depend on the accessibility to Urban Green Space (USG). <br /> <br />\n",
    ">Urban green spaces (USG) provide enormous benefits to the neighbourhood and community by improving health, social well-being and enhancing the enjoyment of the local environment.\n",
    ">On the other hand, creating green spaces is considered a challenge. Particularly in city-states such as Singapore and Hong Kong, where there is pressure for space, resources and development.\n",
    ">To achieve the social and psychological benefits, public green spaces should be at the centre of a neighbourhood and not more than five-minutes-walk for most residents, public buildings or shops.\n",
    "\n",
    "**Questions to answer:**\n",
    ">1. Do HK and SG meet the World Health Organization (WHO) target of Green Area per capita (sqm per person) > 9 m2? \n",
    ">2. Is there a neighbourhood in either city that has the ideal of 50 sqm UGS per person? \n",
    ">3. What city and what neighbourhoods provide the best position of UGS of max 5m (=400m) walk?\n",
    ">4. What city and what neighbourhoods provide the best proximity to public transport, facilities and services?\n",
    ">5. Foursquare ranking (happiness indicator)?"
   ]
  },
  {
   "cell_type": "markdown",
   "metadata": {},
   "source": [
    "### Data sources\n",
    "*To answer the questions above and to determine which city provides to most UGS to its citizens, various data sources need to be explored and processed in this Notebook.*\n",
    "\n",
    "*The data is formatted as Excel, Keyhole Markup Language (KML) or GeoJSON. For that we need to apply various methods to import and clean up the data before it can be used.*\n",
    "\n",
    "\n",
    "\n",
    "**Hong Kong data sources to use:**\n",
    "* [HK GeoJSON:](https://geodata.gov.hk/gs/view-dataset;jsessionid=E065C1FC35490F3A9986C1DF617E1A22?uuid=ddd39cbe-5f10-4dbd-96e7-7a4883e37388&l=en&sidx=0)\n",
    "> GeoJSON is an open standard format designed for representing simple geographical features, along with their non-spatial attributes. It is based on the JSON format. With this data it is possible to create a map and mark each neighbourhood (area) of Hong Kong. \n",
    "\n",
    "* [HK census data:](https://geodata.gov.hk/gs/view-dataset?uuid=7873fc05-64fc-45f3-8722-a4a59c44ac44&sidx=0)\n",
    "> Hong Kong is devided into districts and constituency areas. This data set is an Excel file that provides information on the numbers of people that live in each area. With that it is possible to calculate the UGS per capita > 9 m2 or to determine if any area has the ideal of 50 m2 per person. \n",
    "\n",
    "* [HK Country Parks](https://opendata.esrichina.hk/datasets/country-parks-in-hong-kong-1) | [and HK Parks, Zoos and Gardens:](https://opendata.esrichina.hk/datasets/parks-zoos-and-gardens-in-hong-kong)\n",
    "> This data shows the location of the Parks, Zoos and Gardens in Hong Kong. The data is a Keyhole Markup Language (KML) file. KML files use XML to express geographic annotation and visualization by storing locations.\n",
    "\n",
    "**Singapore data sources to use:**\n",
    "* [SG GeoJSON:](https://data.gov.sg/dataset/electoral-boundary-2011?resource_id=db8c03ba-983e-4a57-8976-b72b44fe037a)\n",
    "> With this JSON formatted dataset it is possible to create a map and mark down each neighbourhood (area) of Singapore. \n",
    "\n",
    "* [SG census data:](https://www.singstat.gov.sg/find-data/search-by-theme/population/geographic-distribution/latest-data)\n",
    "> This data set is an Excel file that contains geospatial statistics on the numbers of people that live in each area. With that it is possible to calculate the UGS per capita > 9 m2 or to determine if any area has the ideal of 50 m2 per person. \n",
    "\n",
    "* [SG Parks:](https://www.onemap.sg/main/v2/nearbyparks)\n",
    "> This data set. show the locations of the parks in Singapore. The data is a Keyhole Markup Language (KML) file. KML files use XML to express geographic annotation and visualization by storing locations."
   ]
  },
  {
   "cell_type": "code",
   "execution_count": 1,
   "metadata": {},
   "outputs": [],
   "source": [
    "import requests\n",
    "import lxml.html as lh\n",
    "import pandas as pd\n",
    "import numpy as np"
   ]
  },
  {
   "cell_type": "code",
   "execution_count": 2,
   "metadata": {},
   "outputs": [
    {
     "name": "stdout",
     "output_type": "stream",
     "text": [
      "Let's get going!\n"
     ]
    }
   ],
   "source": [
    "print(\"Let's get going!\")"
   ]
  }
 ],
 "metadata": {
  "kernelspec": {
   "display_name": "Python 3.7",
   "language": "python",
   "name": "python3"
  },
  "language_info": {
   "codemirror_mode": {
    "name": "ipython",
    "version": 3
   },
   "file_extension": ".py",
   "mimetype": "text/x-python",
   "name": "python",
   "nbconvert_exporter": "python",
   "pygments_lexer": "ipython3",
   "version": "3.7.9"
  }
 },
 "nbformat": 4,
 "nbformat_minor": 1
}
